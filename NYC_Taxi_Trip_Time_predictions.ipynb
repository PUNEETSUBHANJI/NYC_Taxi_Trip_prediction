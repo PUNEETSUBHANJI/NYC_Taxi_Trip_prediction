{
  "nbformat": 4,
  "nbformat_minor": 0,
  "metadata": {
    "colab": {
      "provenance": [],
      "authorship_tag": "ABX9TyM4Wo7ME/qKyDor7yVjdxLu",
      "include_colab_link": true
    },
    "kernelspec": {
      "name": "python3",
      "display_name": "Python 3"
    },
    "language_info": {
      "name": "python"
    }
  },
  "cells": [
    {
      "cell_type": "markdown",
      "metadata": {
        "id": "view-in-github",
        "colab_type": "text"
      },
      "source": [
        "<a href=\"https://colab.research.google.com/github/PUNEETSUBHANJI/NYC_Taxi_Trip_prediction/blob/main/NYC_Taxi_Trip_Time_predictions.ipynb\" target=\"_parent\"><img src=\"https://colab.research.google.com/assets/colab-badge.svg\" alt=\"Open In Colab\"/></a>"
      ]
    },
    {
      "cell_type": "markdown",
      "metadata": {
        "id": "0zm908IX9mcl"
      },
      "source": [
        "# Project  : NYC Taxi trip duration Prediction :: Predicting total ride duration of taxi trips in NYC using the given Dataset"
      ]
    },
    {
      "cell_type": "markdown",
      "metadata": {
        "id": "Xf4lc0yL9tY9"
      },
      "source": [
        "Problem Description : \n",
        "\n",
        "Task is to build a model that predicts the total ride duration of taxi trips in New York City. primary dataset is one released by the NYC Taxi and Limousine Commission, which includes pickup time, geo-coordinates, number of passengers, and many other variables.\n"
      ]
    },
    {
      "cell_type": "markdown",
      "metadata": {
        "id": "Eb1BkVjaBpwf"
      },
      "source": [
        "## Description of Data\n",
        "\n",
        "The dataset is based on the 2016 NYC Cab trip record data, The data was originally published by the NYC Taxi and Limousine Commission.\n",
        "The data was sampled and cleaned for the performing this project.\n",
        "\n",
        "Based on individual trip attributes, you should predict the duration of each trip in the test set.\n",
        "\n",
        "<b> NYC Taxi Data.csv </b> - The Dataset contains 1458644 trip records\n",
        "\n",
        "\n",
        "### Details of Dataset\n",
        "* #### id - A unique id for each trip.\n",
        "* #### vendor_id - An identification code for the provider associated to the trip record.\n",
        "* #### pickup_datetime - Time when the meter started or the date and time of pickup.\n",
        "* #### dropoff_datetime -  Time and date that the metre was turned off or dropped off.\n",
        "* #### passenger_count - Number of passengers as reported by the driver.\n",
        "* #### pickup_longitude - Longitude details of Pick up or when the meter started.\n",
        "* #### pickup_latitude -  latitude details of Pick up or when the meter started.\n",
        "* #### dropoff_longitude - Longitude details of dropoff or when the meter turned off.\n",
        "* #### dropoff_latitude - latitude details of dropoff or when the meter turned of\n",
        "* #### store_and_fwd_flag - This flag indicates us, whether the trip record was stored in vehicle memory before sending to the vendor because the vehicle did not have a connection to the server - Y=store and forward; N=not a store and forward trip.\n",
        "* #### trip_duration - Its our target variable and it is duration of the trip in seconds.\n"
      ]
    },
    {
      "cell_type": "markdown",
      "metadata": {
        "id": "sVz0xIjuBxGC"
      },
      "source": [
        "# Mounting of Drive, Loading Data and Importing of the required libraries\n"
      ]
    },
    {
      "cell_type": "code",
      "execution_count": 1,
      "metadata": {
        "colab": {
          "base_uri": "https://localhost:8080/"
        },
        "id": "1k114G4Z9SD-",
        "outputId": "9f8aba8b-8000-4c5f-e51f-ff61c280a748"
      },
      "outputs": [
        {
          "output_type": "stream",
          "name": "stdout",
          "text": [
            "Mounted at /content/drive\n"
          ]
        }
      ],
      "source": [
        "# Mounting of google drive to fetch the Raw_DATA_SET\n",
        "from google.colab import drive\n",
        "drive.mount('/content/drive')"
      ]
    },
    {
      "cell_type": "code",
      "execution_count": 2,
      "metadata": {
        "id": "Bqmfw3DGCH-t"
      },
      "outputs": [],
      "source": [
        "\n",
        "# Importing necessary Libraries\n",
        "import pandas as pd\n",
        "import numpy as np\n",
        "import seaborn as sns\n",
        "import matplotlib.pyplot as plt\n",
        "from sklearn.linear_model import LinearRegression\n",
        "from sklearn.ensemble import RandomForestRegressor\n",
        "from xgboost import XGBRegressor\n",
        "from sklearn import metrics\n",
        "from sklearn.model_selection import train_test_split,GridSearchCV\n",
        "import statsmodels.formula.api as sm\n",
        "from sklearn.model_selection import learning_curve\n",
        "from sklearn.model_selection import ShuffleSplit\n",
        "import datetime as dt\n",
        "%matplotlib inline\n",
        "import warnings; warnings.simplefilter('ignore')"
      ]
    },
    {
      "cell_type": "code",
      "execution_count": 4,
      "metadata": {
        "id": "2M5DSD3SKMvP"
      },
      "outputs": [],
      "source": [
        "#Fetching the given dataet using pandas\n",
        "taxi_data = pd.read_csv('/content/drive/MyDrive/Projects- Almabetter_Puneet/NYC Taxi Time prediction/NYC Taxi Data.csv')"
      ]
    }
  ]
}